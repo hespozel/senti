{
 "cells": [
  {
   "cell_type": "code",
   "execution_count": 1,
   "metadata": {},
   "outputs": [],
   "source": [
    "import requests\n",
    "from requests.auth import HTTPDigestAuth\n",
    "import json"
   ]
  },
  {
   "cell_type": "code",
   "execution_count": 2,
   "metadata": {},
   "outputs": [],
   "source": [
    "# Replace with the correct URL\n",
    "#url = \"http://api_url\"\n",
    "#url=\"http://192.168.0.43:5001/?query=How big is my dick?\"\n",
    "url=\"http://127.0.0.1:5001/?query=How big is my dick?\""
   ]
  },
  {
   "cell_type": "code",
   "execution_count": null,
   "metadata": {},
   "outputs": [],
   "source": []
  },
  {
   "cell_type": "code",
   "execution_count": 3,
   "metadata": {},
   "outputs": [],
   "source": [
    "# It is a good practice not to hardcode the credentials. So ask the user to enter credentials at runtime\n",
    "#myResponse = requests.get(url,auth=HTTPDigestAuth(raw_input(\"username: \"), raw_input(\"Password: \")), verify=True)\n",
    "myResponse = requests.get(url, verify=True)\n",
    "#print (myResponse.status_code)"
   ]
  },
  {
   "cell_type": "code",
   "execution_count": 4,
   "metadata": {},
   "outputs": [
    {
     "name": "stdout",
     "output_type": "stream",
     "text": [
      "The response contains 2 properties\n",
      "\n",
      "\n",
      "prediction :  Unsincere\n",
      "confidence :  0.662\n"
     ]
    }
   ],
   "source": [
    "\n",
    "\n",
    "# For successful API call, response code will be 200 (OK)\n",
    "if(myResponse.ok):\n",
    "\n",
    "    # Loading the response data into a dict variable\n",
    "    # json.loads takes in only binary or string variables so using content to fetch binary content\n",
    "    # Loads (Load String) takes a Json file and converts into python data structure (dict or list, depending on JSON)\n",
    "    jData = json.loads(myResponse.content)\n",
    "\n",
    "    print(\"The response contains {0} properties\".format(len(jData)))\n",
    "    print(\"\\n\")\n",
    "    for key in jData:\n",
    "        print (key + \" : \" , jData[key])\n",
    "else:\n",
    "  # If response code is not ok (200), print the resulting http error code with description\n",
    "    myResponse.raise_for_status()"
   ]
  },
  {
   "cell_type": "code",
   "execution_count": 13,
   "metadata": {},
   "outputs": [],
   "source": [
    "retstr=\"\"\n",
    "for key in jData:\n",
    "   retstr=retstr+key+\":\"+str(jData[key])+\"\\n\" "
   ]
  },
  {
   "cell_type": "code",
   "execution_count": 14,
   "metadata": {},
   "outputs": [
    {
     "name": "stdout",
     "output_type": "stream",
     "text": [
      "prediction:Unsincere\n",
      "confidence:0.662\n",
      "\n"
     ]
    }
   ],
   "source": [
    "print (retstr)"
   ]
  },
  {
   "cell_type": "code",
   "execution_count": 5,
   "metadata": {},
   "outputs": [
    {
     "data": {
      "text/plain": [
       "'Unsincere'"
      ]
     },
     "execution_count": 5,
     "metadata": {},
     "output_type": "execute_result"
    }
   ],
   "source": [
    "jData[\"prediction\"]"
   ]
  },
  {
   "cell_type": "code",
   "execution_count": 6,
   "metadata": {},
   "outputs": [
    {
     "data": {
      "text/plain": [
       "0.662"
      ]
     },
     "execution_count": 6,
     "metadata": {},
     "output_type": "execute_result"
    }
   ],
   "source": [
    "jData[\"confidence\"]"
   ]
  },
  {
   "cell_type": "code",
   "execution_count": null,
   "metadata": {},
   "outputs": [],
   "source": []
  }
 ],
 "metadata": {
  "kernelspec": {
   "display_name": "vsenti",
   "language": "python",
   "name": "vsenti"
  },
  "language_info": {
   "codemirror_mode": {
    "name": "ipython",
    "version": 3
   },
   "file_extension": ".py",
   "mimetype": "text/x-python",
   "name": "python",
   "nbconvert_exporter": "python",
   "pygments_lexer": "ipython3",
   "version": "3.6.7"
  }
 },
 "nbformat": 4,
 "nbformat_minor": 2
}
